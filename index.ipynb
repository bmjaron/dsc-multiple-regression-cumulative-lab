{
  "cells": [
    {
      "cell_type": "markdown",
      "metadata": {
        "id": "VQQg9G36XZsY"
      },
      "source": [
        "# Multiple Linear Regression - Cumulative Lab"
      ]
    },
    {
      "cell_type": "markdown",
      "metadata": {
        "id": "FnmGPhoGXZsZ"
      },
      "source": [
        "## Introduction\n",
        "\n",
        "In this cumulative lab you'll perform an end-to-end analysis of a dataset using multiple linear regression."
      ]
    },
    {
      "cell_type": "markdown",
      "metadata": {
        "id": "oxh-hUrwXZsa"
      },
      "source": [
        "## Objectives\n",
        "\n",
        "You will be able to:\n",
        "\n",
        "* Prepare data for regression analysis using pandas\n",
        "* Build multiple linear regression models using StatsModels\n",
        "* Measure regression model performance\n",
        "* Interpret multiple linear regression coefficients"
      ]
    },
    {
      "cell_type": "markdown",
      "metadata": {
        "id": "V58oZJThXZsa"
      },
      "source": [
        "## Your Task: Develop a Model of Diamond Prices\n",
        "\n",
        "![tweezers holding a diamond](https://github.com/bmjaron/dsc-multiple-regression-cumulative-lab/blob/master/diamond.jpg?raw=1)\n",
        "\n",
        "Photo by <a href=\"https://unsplash.com/@tahliaclaire?utm_source=unsplash&utm_medium=referral&utm_content=creditCopyText\">Tahlia Doyle</a> on <a href=\"https://unsplash.com/s/photos/diamonds?utm_source=unsplash&utm_medium=referral&utm_content=creditCopyText\">Unsplash</a>"
      ]
    },
    {
      "cell_type": "markdown",
      "metadata": {
        "id": "WeF7Xsz-XZsa"
      },
      "source": [
        "### Business Understanding\n",
        "\n",
        "You've been asked to perform an analysis to see how various factors impact the price of diamonds. There are various [guides online](https://www.diamonds.pro/education/diamond-prices/) that claim to tell consumers how to avoid getting \"ripped off\", but you've been asked to dig into the data to see whether these claims ring true.\n",
        "\n",
        "### Data Understanding\n",
        "\n",
        "We have downloaded a diamonds dataset from [Kaggle](https://www.kaggle.com/datasets/shivam2503/diamonds), which came with this description:\n",
        "\n",
        "* **price** price in US dollars (\\$326--\\$18,823)\n",
        "* **carat** weight of the diamond (0.2--5.01)\n",
        "* **cut** quality of the cut (Fair, Good, Very Good, Premium, Ideal)\n",
        "* **color** diamond colour, from J (worst) to D (best)\n",
        "* **clarity** a measurement of how clear the diamond is (I1 (worst), SI2, SI1, VS2, VS1, VVS2, VVS1, IF (best))\n",
        "* **x** length in mm (0--10.74)\n",
        "* **y** width in mm (0--58.9)\n",
        "* **z** depth in mm (0--31.8)\n",
        "* **depth** total depth percentage = z / mean(x, y) = 2 * z / (x + y) (43--79)\n",
        "* **table** width of top of diamond relative to widest point (43--95)"
      ]
    },
    {
      "cell_type": "markdown",
      "metadata": {
        "id": "-aTQdMwsXZsa"
      },
      "source": [
        "### Requirements\n",
        "\n",
        "#### 1. Load the Data Using Pandas\n",
        "\n",
        "Practice once again with loading CSV data into a `pandas` dataframe.\n",
        "\n",
        "#### 2. Build a Baseline Simple Linear Regression Model\n",
        "\n",
        "Identify the feature that is most correlated with `price` and build a StatsModels linear regression model using just that feature.\n",
        "\n",
        "#### 3. Evaluate and Interpret Baseline Model Results\n",
        "\n",
        "Explain the overall performance as well as parameter coefficients for the baseline simple linear regression model.\n",
        "\n",
        "#### 4. Prepare a Categorical Feature for Multiple Regression Modeling\n",
        "\n",
        "Identify a promising categorical feature and use `pd.get_dummies()` to prepare it for modeling.\n",
        "\n",
        "#### 5. Build a Multiple Linear Regression Model\n",
        "\n",
        "Using the data from Step 4, create a second StatsModels linear regression model using one numeric feature and one one-hot encoded categorical feature.\n",
        "\n",
        "#### 6. Evaluate and Interpret Multiple Linear Regression Model Results\n",
        "\n",
        "Explain the performance of the new model in comparison with the baseline, and interpret the new parameter coefficients."
      ]
    },
    {
      "cell_type": "markdown",
      "metadata": {
        "id": "svCzccJzXZsa"
      },
      "source": [
        "## 1. Load the Data Using Pandas\n",
        "\n",
        "Import `pandas` (with the standard alias `pd`), and load the data from the file `diamonds.csv` into a DataFrame called `diamonds`.\n",
        "\n",
        "Be sure to specify `index_col=0` to avoid creating an \"Unnamed: 0\" column."
      ]
    },
    {
      "cell_type": "code",
      "execution_count": 1,
      "metadata": {
        "id": "kS8Rqx5zXZsb"
      },
      "outputs": [],
      "source": [
        "# Your code here\n",
        "import pandas as pd \n",
        "import numpy as np \n",
        "import statsmodels.api as sm \n",
        "import seaborn as sns\n",
        "import matplotlib.pyplot as plt \n",
        "%matplotlib inline\n"
      ]
    },
    {
      "cell_type": "code",
      "source": [
        "diamonds = pd.read_csv('https://raw.githubusercontent.com/learn-co-curriculum/dsc-multiple-regression-cumulative-lab/master/diamonds.csv', index_col=0)\n",
        "diamonds.head()"
      ],
      "metadata": {
        "id": "QVblDFKyXvUD",
        "outputId": "dd87f555-30f9-474e-e42c-e0280f77b6b9",
        "colab": {
          "base_uri": "https://localhost:8080/",
          "height": 206
        }
      },
      "execution_count": 15,
      "outputs": [
        {
          "output_type": "execute_result",
          "data": {
            "text/plain": [
              "   carat      cut color clarity  depth  table  price     x     y     z\n",
              "1   0.23    Ideal     E     SI2   61.5   55.0    326  3.95  3.98  2.43\n",
              "2   0.21  Premium     E     SI1   59.8   61.0    326  3.89  3.84  2.31\n",
              "3   0.23     Good     E     VS1   56.9   65.0    327  4.05  4.07  2.31\n",
              "4   0.29  Premium     I     VS2   62.4   58.0    334  4.20  4.23  2.63\n",
              "5   0.31     Good     J     SI2   63.3   58.0    335  4.34  4.35  2.75"
            ],
            "text/html": [
              "\n",
              "  <div id=\"df-d9e2bdc7-e635-4c9a-a6a6-fbad322cee6f\">\n",
              "    <div class=\"colab-df-container\">\n",
              "      <div>\n",
              "<style scoped>\n",
              "    .dataframe tbody tr th:only-of-type {\n",
              "        vertical-align: middle;\n",
              "    }\n",
              "\n",
              "    .dataframe tbody tr th {\n",
              "        vertical-align: top;\n",
              "    }\n",
              "\n",
              "    .dataframe thead th {\n",
              "        text-align: right;\n",
              "    }\n",
              "</style>\n",
              "<table border=\"1\" class=\"dataframe\">\n",
              "  <thead>\n",
              "    <tr style=\"text-align: right;\">\n",
              "      <th></th>\n",
              "      <th>carat</th>\n",
              "      <th>cut</th>\n",
              "      <th>color</th>\n",
              "      <th>clarity</th>\n",
              "      <th>depth</th>\n",
              "      <th>table</th>\n",
              "      <th>price</th>\n",
              "      <th>x</th>\n",
              "      <th>y</th>\n",
              "      <th>z</th>\n",
              "    </tr>\n",
              "  </thead>\n",
              "  <tbody>\n",
              "    <tr>\n",
              "      <th>1</th>\n",
              "      <td>0.23</td>\n",
              "      <td>Ideal</td>\n",
              "      <td>E</td>\n",
              "      <td>SI2</td>\n",
              "      <td>61.5</td>\n",
              "      <td>55.0</td>\n",
              "      <td>326</td>\n",
              "      <td>3.95</td>\n",
              "      <td>3.98</td>\n",
              "      <td>2.43</td>\n",
              "    </tr>\n",
              "    <tr>\n",
              "      <th>2</th>\n",
              "      <td>0.21</td>\n",
              "      <td>Premium</td>\n",
              "      <td>E</td>\n",
              "      <td>SI1</td>\n",
              "      <td>59.8</td>\n",
              "      <td>61.0</td>\n",
              "      <td>326</td>\n",
              "      <td>3.89</td>\n",
              "      <td>3.84</td>\n",
              "      <td>2.31</td>\n",
              "    </tr>\n",
              "    <tr>\n",
              "      <th>3</th>\n",
              "      <td>0.23</td>\n",
              "      <td>Good</td>\n",
              "      <td>E</td>\n",
              "      <td>VS1</td>\n",
              "      <td>56.9</td>\n",
              "      <td>65.0</td>\n",
              "      <td>327</td>\n",
              "      <td>4.05</td>\n",
              "      <td>4.07</td>\n",
              "      <td>2.31</td>\n",
              "    </tr>\n",
              "    <tr>\n",
              "      <th>4</th>\n",
              "      <td>0.29</td>\n",
              "      <td>Premium</td>\n",
              "      <td>I</td>\n",
              "      <td>VS2</td>\n",
              "      <td>62.4</td>\n",
              "      <td>58.0</td>\n",
              "      <td>334</td>\n",
              "      <td>4.20</td>\n",
              "      <td>4.23</td>\n",
              "      <td>2.63</td>\n",
              "    </tr>\n",
              "    <tr>\n",
              "      <th>5</th>\n",
              "      <td>0.31</td>\n",
              "      <td>Good</td>\n",
              "      <td>J</td>\n",
              "      <td>SI2</td>\n",
              "      <td>63.3</td>\n",
              "      <td>58.0</td>\n",
              "      <td>335</td>\n",
              "      <td>4.34</td>\n",
              "      <td>4.35</td>\n",
              "      <td>2.75</td>\n",
              "    </tr>\n",
              "  </tbody>\n",
              "</table>\n",
              "</div>\n",
              "      <button class=\"colab-df-convert\" onclick=\"convertToInteractive('df-d9e2bdc7-e635-4c9a-a6a6-fbad322cee6f')\"\n",
              "              title=\"Convert this dataframe to an interactive table.\"\n",
              "              style=\"display:none;\">\n",
              "        \n",
              "  <svg xmlns=\"http://www.w3.org/2000/svg\" height=\"24px\"viewBox=\"0 0 24 24\"\n",
              "       width=\"24px\">\n",
              "    <path d=\"M0 0h24v24H0V0z\" fill=\"none\"/>\n",
              "    <path d=\"M18.56 5.44l.94 2.06.94-2.06 2.06-.94-2.06-.94-.94-2.06-.94 2.06-2.06.94zm-11 1L8.5 8.5l.94-2.06 2.06-.94-2.06-.94L8.5 2.5l-.94 2.06-2.06.94zm10 10l.94 2.06.94-2.06 2.06-.94-2.06-.94-.94-2.06-.94 2.06-2.06.94z\"/><path d=\"M17.41 7.96l-1.37-1.37c-.4-.4-.92-.59-1.43-.59-.52 0-1.04.2-1.43.59L10.3 9.45l-7.72 7.72c-.78.78-.78 2.05 0 2.83L4 21.41c.39.39.9.59 1.41.59.51 0 1.02-.2 1.41-.59l7.78-7.78 2.81-2.81c.8-.78.8-2.07 0-2.86zM5.41 20L4 18.59l7.72-7.72 1.47 1.35L5.41 20z\"/>\n",
              "  </svg>\n",
              "      </button>\n",
              "      \n",
              "  <style>\n",
              "    .colab-df-container {\n",
              "      display:flex;\n",
              "      flex-wrap:wrap;\n",
              "      gap: 12px;\n",
              "    }\n",
              "\n",
              "    .colab-df-convert {\n",
              "      background-color: #E8F0FE;\n",
              "      border: none;\n",
              "      border-radius: 50%;\n",
              "      cursor: pointer;\n",
              "      display: none;\n",
              "      fill: #1967D2;\n",
              "      height: 32px;\n",
              "      padding: 0 0 0 0;\n",
              "      width: 32px;\n",
              "    }\n",
              "\n",
              "    .colab-df-convert:hover {\n",
              "      background-color: #E2EBFA;\n",
              "      box-shadow: 0px 1px 2px rgba(60, 64, 67, 0.3), 0px 1px 3px 1px rgba(60, 64, 67, 0.15);\n",
              "      fill: #174EA6;\n",
              "    }\n",
              "\n",
              "    [theme=dark] .colab-df-convert {\n",
              "      background-color: #3B4455;\n",
              "      fill: #D2E3FC;\n",
              "    }\n",
              "\n",
              "    [theme=dark] .colab-df-convert:hover {\n",
              "      background-color: #434B5C;\n",
              "      box-shadow: 0px 1px 3px 1px rgba(0, 0, 0, 0.15);\n",
              "      filter: drop-shadow(0px 1px 2px rgba(0, 0, 0, 0.3));\n",
              "      fill: #FFFFFF;\n",
              "    }\n",
              "  </style>\n",
              "\n",
              "      <script>\n",
              "        const buttonEl =\n",
              "          document.querySelector('#df-d9e2bdc7-e635-4c9a-a6a6-fbad322cee6f button.colab-df-convert');\n",
              "        buttonEl.style.display =\n",
              "          google.colab.kernel.accessAllowed ? 'block' : 'none';\n",
              "\n",
              "        async function convertToInteractive(key) {\n",
              "          const element = document.querySelector('#df-d9e2bdc7-e635-4c9a-a6a6-fbad322cee6f');\n",
              "          const dataTable =\n",
              "            await google.colab.kernel.invokeFunction('convertToInteractive',\n",
              "                                                     [key], {});\n",
              "          if (!dataTable) return;\n",
              "\n",
              "          const docLinkHtml = 'Like what you see? Visit the ' +\n",
              "            '<a target=\"_blank\" href=https://colab.research.google.com/notebooks/data_table.ipynb>data table notebook</a>'\n",
              "            + ' to learn more about interactive tables.';\n",
              "          element.innerHTML = '';\n",
              "          dataTable['output_type'] = 'display_data';\n",
              "          await google.colab.output.renderOutput(dataTable, element);\n",
              "          const docLink = document.createElement('div');\n",
              "          docLink.innerHTML = docLinkHtml;\n",
              "          element.appendChild(docLink);\n",
              "        }\n",
              "      </script>\n",
              "    </div>\n",
              "  </div>\n",
              "  "
            ]
          },
          "metadata": {},
          "execution_count": 15
        }
      ]
    },
    {
      "cell_type": "markdown",
      "metadata": {
        "id": "WVFcCZoDXZsb"
      },
      "source": [
        "The following code checks that you loaded the data correctly:"
      ]
    },
    {
      "cell_type": "code",
      "execution_count": 16,
      "metadata": {
        "id": "jn3CeOJPXZsb"
      },
      "outputs": [],
      "source": [
        "# Run this cell without changes\n",
        "\n",
        "# diamonds should be a dataframe\n",
        "assert type(diamonds) == pd.DataFrame\n",
        "\n",
        "# Check that there are the correct number of rows\n",
        "assert diamonds.shape[0] == 53940\n",
        "\n",
        "# Check that there are the correct number of columns\n",
        "# (if this crashes, make sure you specified `index_col=0`)\n",
        "assert diamonds.shape[1] == 10"
      ]
    },
    {
      "cell_type": "markdown",
      "metadata": {
        "id": "JaNkBJKrXZsb"
      },
      "source": [
        "Inspect the distributions of the numeric features:"
      ]
    },
    {
      "cell_type": "code",
      "execution_count": 17,
      "metadata": {
        "id": "TXUggPg9XZsb",
        "outputId": "a0ee14e3-82c8-4f98-e980-35fc64f16343",
        "colab": {
          "base_uri": "https://localhost:8080/",
          "height": 300
        }
      },
      "outputs": [
        {
          "output_type": "execute_result",
          "data": {
            "text/plain": [
              "              carat         depth         table         price             x  \\\n",
              "count  53940.000000  53940.000000  53940.000000  53940.000000  53940.000000   \n",
              "mean       0.797940     61.749405     57.457184   3932.799722      5.731157   \n",
              "std        0.474011      1.432621      2.234491   3989.439738      1.121761   \n",
              "min        0.200000     43.000000     43.000000    326.000000      0.000000   \n",
              "25%        0.400000     61.000000     56.000000    950.000000      4.710000   \n",
              "50%        0.700000     61.800000     57.000000   2401.000000      5.700000   \n",
              "75%        1.040000     62.500000     59.000000   5324.250000      6.540000   \n",
              "max        5.010000     79.000000     95.000000  18823.000000     10.740000   \n",
              "\n",
              "                  y             z  \n",
              "count  53940.000000  53940.000000  \n",
              "mean       5.734526      3.538734  \n",
              "std        1.142135      0.705699  \n",
              "min        0.000000      0.000000  \n",
              "25%        4.720000      2.910000  \n",
              "50%        5.710000      3.530000  \n",
              "75%        6.540000      4.040000  \n",
              "max       58.900000     31.800000  "
            ],
            "text/html": [
              "\n",
              "  <div id=\"df-9c27f9fa-6104-4bf6-8122-6297c09aa53a\">\n",
              "    <div class=\"colab-df-container\">\n",
              "      <div>\n",
              "<style scoped>\n",
              "    .dataframe tbody tr th:only-of-type {\n",
              "        vertical-align: middle;\n",
              "    }\n",
              "\n",
              "    .dataframe tbody tr th {\n",
              "        vertical-align: top;\n",
              "    }\n",
              "\n",
              "    .dataframe thead th {\n",
              "        text-align: right;\n",
              "    }\n",
              "</style>\n",
              "<table border=\"1\" class=\"dataframe\">\n",
              "  <thead>\n",
              "    <tr style=\"text-align: right;\">\n",
              "      <th></th>\n",
              "      <th>carat</th>\n",
              "      <th>depth</th>\n",
              "      <th>table</th>\n",
              "      <th>price</th>\n",
              "      <th>x</th>\n",
              "      <th>y</th>\n",
              "      <th>z</th>\n",
              "    </tr>\n",
              "  </thead>\n",
              "  <tbody>\n",
              "    <tr>\n",
              "      <th>count</th>\n",
              "      <td>53940.000000</td>\n",
              "      <td>53940.000000</td>\n",
              "      <td>53940.000000</td>\n",
              "      <td>53940.000000</td>\n",
              "      <td>53940.000000</td>\n",
              "      <td>53940.000000</td>\n",
              "      <td>53940.000000</td>\n",
              "    </tr>\n",
              "    <tr>\n",
              "      <th>mean</th>\n",
              "      <td>0.797940</td>\n",
              "      <td>61.749405</td>\n",
              "      <td>57.457184</td>\n",
              "      <td>3932.799722</td>\n",
              "      <td>5.731157</td>\n",
              "      <td>5.734526</td>\n",
              "      <td>3.538734</td>\n",
              "    </tr>\n",
              "    <tr>\n",
              "      <th>std</th>\n",
              "      <td>0.474011</td>\n",
              "      <td>1.432621</td>\n",
              "      <td>2.234491</td>\n",
              "      <td>3989.439738</td>\n",
              "      <td>1.121761</td>\n",
              "      <td>1.142135</td>\n",
              "      <td>0.705699</td>\n",
              "    </tr>\n",
              "    <tr>\n",
              "      <th>min</th>\n",
              "      <td>0.200000</td>\n",
              "      <td>43.000000</td>\n",
              "      <td>43.000000</td>\n",
              "      <td>326.000000</td>\n",
              "      <td>0.000000</td>\n",
              "      <td>0.000000</td>\n",
              "      <td>0.000000</td>\n",
              "    </tr>\n",
              "    <tr>\n",
              "      <th>25%</th>\n",
              "      <td>0.400000</td>\n",
              "      <td>61.000000</td>\n",
              "      <td>56.000000</td>\n",
              "      <td>950.000000</td>\n",
              "      <td>4.710000</td>\n",
              "      <td>4.720000</td>\n",
              "      <td>2.910000</td>\n",
              "    </tr>\n",
              "    <tr>\n",
              "      <th>50%</th>\n",
              "      <td>0.700000</td>\n",
              "      <td>61.800000</td>\n",
              "      <td>57.000000</td>\n",
              "      <td>2401.000000</td>\n",
              "      <td>5.700000</td>\n",
              "      <td>5.710000</td>\n",
              "      <td>3.530000</td>\n",
              "    </tr>\n",
              "    <tr>\n",
              "      <th>75%</th>\n",
              "      <td>1.040000</td>\n",
              "      <td>62.500000</td>\n",
              "      <td>59.000000</td>\n",
              "      <td>5324.250000</td>\n",
              "      <td>6.540000</td>\n",
              "      <td>6.540000</td>\n",
              "      <td>4.040000</td>\n",
              "    </tr>\n",
              "    <tr>\n",
              "      <th>max</th>\n",
              "      <td>5.010000</td>\n",
              "      <td>79.000000</td>\n",
              "      <td>95.000000</td>\n",
              "      <td>18823.000000</td>\n",
              "      <td>10.740000</td>\n",
              "      <td>58.900000</td>\n",
              "      <td>31.800000</td>\n",
              "    </tr>\n",
              "  </tbody>\n",
              "</table>\n",
              "</div>\n",
              "      <button class=\"colab-df-convert\" onclick=\"convertToInteractive('df-9c27f9fa-6104-4bf6-8122-6297c09aa53a')\"\n",
              "              title=\"Convert this dataframe to an interactive table.\"\n",
              "              style=\"display:none;\">\n",
              "        \n",
              "  <svg xmlns=\"http://www.w3.org/2000/svg\" height=\"24px\"viewBox=\"0 0 24 24\"\n",
              "       width=\"24px\">\n",
              "    <path d=\"M0 0h24v24H0V0z\" fill=\"none\"/>\n",
              "    <path d=\"M18.56 5.44l.94 2.06.94-2.06 2.06-.94-2.06-.94-.94-2.06-.94 2.06-2.06.94zm-11 1L8.5 8.5l.94-2.06 2.06-.94-2.06-.94L8.5 2.5l-.94 2.06-2.06.94zm10 10l.94 2.06.94-2.06 2.06-.94-2.06-.94-.94-2.06-.94 2.06-2.06.94z\"/><path d=\"M17.41 7.96l-1.37-1.37c-.4-.4-.92-.59-1.43-.59-.52 0-1.04.2-1.43.59L10.3 9.45l-7.72 7.72c-.78.78-.78 2.05 0 2.83L4 21.41c.39.39.9.59 1.41.59.51 0 1.02-.2 1.41-.59l7.78-7.78 2.81-2.81c.8-.78.8-2.07 0-2.86zM5.41 20L4 18.59l7.72-7.72 1.47 1.35L5.41 20z\"/>\n",
              "  </svg>\n",
              "      </button>\n",
              "      \n",
              "  <style>\n",
              "    .colab-df-container {\n",
              "      display:flex;\n",
              "      flex-wrap:wrap;\n",
              "      gap: 12px;\n",
              "    }\n",
              "\n",
              "    .colab-df-convert {\n",
              "      background-color: #E8F0FE;\n",
              "      border: none;\n",
              "      border-radius: 50%;\n",
              "      cursor: pointer;\n",
              "      display: none;\n",
              "      fill: #1967D2;\n",
              "      height: 32px;\n",
              "      padding: 0 0 0 0;\n",
              "      width: 32px;\n",
              "    }\n",
              "\n",
              "    .colab-df-convert:hover {\n",
              "      background-color: #E2EBFA;\n",
              "      box-shadow: 0px 1px 2px rgba(60, 64, 67, 0.3), 0px 1px 3px 1px rgba(60, 64, 67, 0.15);\n",
              "      fill: #174EA6;\n",
              "    }\n",
              "\n",
              "    [theme=dark] .colab-df-convert {\n",
              "      background-color: #3B4455;\n",
              "      fill: #D2E3FC;\n",
              "    }\n",
              "\n",
              "    [theme=dark] .colab-df-convert:hover {\n",
              "      background-color: #434B5C;\n",
              "      box-shadow: 0px 1px 3px 1px rgba(0, 0, 0, 0.15);\n",
              "      filter: drop-shadow(0px 1px 2px rgba(0, 0, 0, 0.3));\n",
              "      fill: #FFFFFF;\n",
              "    }\n",
              "  </style>\n",
              "\n",
              "      <script>\n",
              "        const buttonEl =\n",
              "          document.querySelector('#df-9c27f9fa-6104-4bf6-8122-6297c09aa53a button.colab-df-convert');\n",
              "        buttonEl.style.display =\n",
              "          google.colab.kernel.accessAllowed ? 'block' : 'none';\n",
              "\n",
              "        async function convertToInteractive(key) {\n",
              "          const element = document.querySelector('#df-9c27f9fa-6104-4bf6-8122-6297c09aa53a');\n",
              "          const dataTable =\n",
              "            await google.colab.kernel.invokeFunction('convertToInteractive',\n",
              "                                                     [key], {});\n",
              "          if (!dataTable) return;\n",
              "\n",
              "          const docLinkHtml = 'Like what you see? Visit the ' +\n",
              "            '<a target=\"_blank\" href=https://colab.research.google.com/notebooks/data_table.ipynb>data table notebook</a>'\n",
              "            + ' to learn more about interactive tables.';\n",
              "          element.innerHTML = '';\n",
              "          dataTable['output_type'] = 'display_data';\n",
              "          await google.colab.output.renderOutput(dataTable, element);\n",
              "          const docLink = document.createElement('div');\n",
              "          docLink.innerHTML = docLinkHtml;\n",
              "          element.appendChild(docLink);\n",
              "        }\n",
              "      </script>\n",
              "    </div>\n",
              "  </div>\n",
              "  "
            ]
          },
          "metadata": {},
          "execution_count": 17
        }
      ],
      "source": [
        "# Run this cell without changes\n",
        "diamonds.describe()"
      ]
    },
    {
      "cell_type": "markdown",
      "metadata": {
        "id": "pcpJr1-8XZsc"
      },
      "source": [
        "And inspect the value counts for the categorical features:"
      ]
    },
    {
      "cell_type": "code",
      "execution_count": null,
      "metadata": {
        "id": "r4xPXpOWXZsc"
      },
      "outputs": [],
      "source": [
        "# Run this cell without changes\n",
        "categoricals = diamonds.select_dtypes(\"object\")\n",
        "\n",
        "for col in categoricals:\n",
        "    print(diamonds[col].value_counts(), \"\\n\")"
      ]
    },
    {
      "cell_type": "markdown",
      "metadata": {
        "id": "o_ayzjKfXZsc"
      },
      "source": [
        "## 2. Build a Baseline Simple Linear Regression Model\n",
        "\n",
        "### Identifying a Highly Correlated Predictor\n",
        "\n",
        "The target variable is `price`. Look at the correlation coefficients for all of the predictor variables to find the one with the highest correlation with `price`."
      ]
    },
    {
      "cell_type": "code",
      "execution_count": null,
      "metadata": {
        "id": "NGItGA-4XZsc"
      },
      "outputs": [],
      "source": [
        "# Your code here - look at correlations\n"
      ]
    },
    {
      "cell_type": "markdown",
      "metadata": {
        "id": "gZTKXszyXZsc"
      },
      "source": [
        "Identify the name of the predictor column with the strongest correlation below."
      ]
    },
    {
      "cell_type": "code",
      "execution_count": null,
      "metadata": {
        "id": "BlBCvOUaXZsc"
      },
      "outputs": [],
      "source": [
        "# Replace None with appropriate code\n",
        "most_correlated = None"
      ]
    },
    {
      "cell_type": "markdown",
      "metadata": {
        "id": "oPp-bm4pXZsc"
      },
      "source": [
        "The following code checks that you specified a column correctly:"
      ]
    },
    {
      "cell_type": "code",
      "execution_count": null,
      "metadata": {
        "id": "O1u_GfEbXZsc"
      },
      "outputs": [],
      "source": [
        "# Run this cell without changes\n",
        "\n",
        "# most_correlated should be a string\n",
        "assert type(most_correlated) == str\n",
        "\n",
        "# most_correlated should be one of the columns other than price\n",
        "assert most_correlated in diamonds.drop(\"price\", axis=1).columns"
      ]
    },
    {
      "cell_type": "markdown",
      "metadata": {
        "id": "3k9Obig9XZsc"
      },
      "source": [
        "### Plotting the Predictor vs. Price\n",
        "\n",
        "We'll also create a scatter plot of that variable vs. `price`:"
      ]
    },
    {
      "cell_type": "code",
      "execution_count": null,
      "metadata": {
        "id": "9jmV5JVPXZsc"
      },
      "outputs": [],
      "source": [
        "# Run this cell without changes\n",
        "\n",
        "# Plot a sample of 1000 data points, most_correlated vs. price\n",
        "diamonds.sample(1000, random_state=1).plot.scatter(x=most_correlated, y=\"price\");"
      ]
    },
    {
      "cell_type": "markdown",
      "metadata": {
        "id": "PyrI9lbqXZsc"
      },
      "source": [
        "### Setting Up Variables for Regression\n",
        "\n",
        "Declare `y` and `X_baseline` variables, where `y` is a Series containing `price` data and `X_baseline` is a DataFrame containing the column with the strongest correlation."
      ]
    },
    {
      "cell_type": "code",
      "execution_count": null,
      "metadata": {
        "id": "AqQ9Yx3oXZsc"
      },
      "outputs": [],
      "source": [
        "# Replace None with appropriate code\n",
        "y = None\n",
        "X_baseline = None"
      ]
    },
    {
      "cell_type": "markdown",
      "metadata": {
        "id": "7Z274rOAXZsd"
      },
      "source": [
        "The following code checks that you created valid `y` and `X_baseline` variables:"
      ]
    },
    {
      "cell_type": "code",
      "execution_count": null,
      "metadata": {
        "id": "Qekv8eKmXZsd"
      },
      "outputs": [],
      "source": [
        "# Run this code without changes\n",
        "\n",
        "# y should be a series\n",
        "assert type(y) == pd.Series\n",
        "\n",
        "# y should contain about 54k rows\n",
        "assert y.shape == (53940,)\n",
        "\n",
        "# X_baseline should be a DataFrame\n",
        "assert type(X_baseline) == pd.DataFrame\n",
        "\n",
        "# X_baseline should contain the same number of rows as y\n",
        "assert X_baseline.shape[0] == y.shape[0]\n",
        "\n",
        "# X_baseline should have 1 column\n",
        "assert X_baseline.shape[1] == 1"
      ]
    },
    {
      "cell_type": "markdown",
      "metadata": {
        "id": "uXVxd5zMXZsd"
      },
      "source": [
        "### Creating and Fitting Simple Linear Regression\n",
        "\n",
        "The following code uses your variables to build and fit a simple linear regression."
      ]
    },
    {
      "cell_type": "code",
      "execution_count": null,
      "metadata": {
        "id": "0j0SkvZ3XZsd"
      },
      "outputs": [],
      "source": [
        "# Run this cell without changes\n",
        "import statsmodels.api as sm\n",
        "\n",
        "baseline_model = sm.OLS(y, sm.add_constant(X_baseline))\n",
        "baseline_results = baseline_model.fit()"
      ]
    },
    {
      "cell_type": "markdown",
      "metadata": {
        "id": "AwJ0tNeSXZsd"
      },
      "source": [
        "## 3. Evaluate and Interpret Baseline Model Results\n",
        "\n",
        "Write any necessary code to evaluate the model performance overall and interpret its coefficients."
      ]
    },
    {
      "cell_type": "code",
      "execution_count": null,
      "metadata": {
        "id": "7JmL7E_KXZsd"
      },
      "outputs": [],
      "source": [
        "# Your code here"
      ]
    },
    {
      "cell_type": "markdown",
      "metadata": {
        "id": "b0dK59pTXZsd"
      },
      "source": [
        "Then summarize your findings below:"
      ]
    },
    {
      "cell_type": "code",
      "execution_count": null,
      "metadata": {
        "id": "SAAtPefvXZsd"
      },
      "outputs": [],
      "source": [
        "# Your written answer here"
      ]
    },
    {
      "cell_type": "markdown",
      "metadata": {
        "id": "ZX72Q8yoXZsd"
      },
      "source": [
        "<details>\n",
        "    <summary style=\"cursor: pointer\"><b>Solution (click to expand)</b></summary>\n",
        "\n",
        "`carat` was the attribute most strongly correlated with `price`, therefore our model is describing this relationship.\n",
        "\n",
        "Overall this model is statistically significant and explains about 85% of the variance in price. In a typical prediction, the model is off by about &dollar;1k.\n",
        "\n",
        "* The intercept is at about -\\\\$2.3k. This means that a zero-carat diamond would sell for -\\\\$2.3k.\n",
        "* The coefficient for `carat` is about \\\\$7.8k. This means for each additional carat, the diamond costs about \\\\$7.8k more.\n",
        "\n",
        "</details>    "
      ]
    },
    {
      "cell_type": "markdown",
      "metadata": {
        "id": "KZjUINswXZsd"
      },
      "source": [
        "## 4. Prepare a Categorical Feature for Multiple Regression Modeling\n",
        "\n",
        "Now let's go beyond our simple linear regression and add a categorical feature.\n",
        "\n",
        "### Identifying a Promising Predictor\n",
        "\n",
        "Below we create bar graphs for the categories present in each categorical feature:"
      ]
    },
    {
      "cell_type": "code",
      "execution_count": null,
      "metadata": {
        "id": "XGNE8TZuXZsd"
      },
      "outputs": [],
      "source": [
        "# Run this code without changes\n",
        "import matplotlib.pyplot as plt\n",
        "\n",
        "categorical_features = diamonds.select_dtypes(\"object\").columns\n",
        "fig, axes = plt.subplots(ncols=len(categorical_features), figsize=(12,5))\n",
        "\n",
        "for index, feature in enumerate(categorical_features):\n",
        "    diamonds.groupby(feature).mean().plot.bar(\n",
        "        y=\"price\", ax=axes[index])"
      ]
    },
    {
      "cell_type": "markdown",
      "metadata": {
        "id": "uFH0Qic6XZsd"
      },
      "source": [
        "Identify the name of the categorical predictor column you want to use in your model below. The choice here is more open-ended than choosing the numeric predictor above -- choose something that will be interpretable in a final model, and where the different categories seem to have an impact on the price."
      ]
    },
    {
      "cell_type": "code",
      "execution_count": null,
      "metadata": {
        "id": "O3ZLul3TXZsd"
      },
      "outputs": [],
      "source": [
        "# Replace None with appropriate code\n",
        "cat_col = None"
      ]
    },
    {
      "cell_type": "markdown",
      "metadata": {
        "id": "Ehn3SZ81XZsd"
      },
      "source": [
        "The following code checks that you specified a column correctly:"
      ]
    },
    {
      "cell_type": "code",
      "execution_count": null,
      "metadata": {
        "id": "07DyIcVFXZsd"
      },
      "outputs": [],
      "source": [
        "# Run this cell without changes\n",
        "\n",
        "# cat_col should be a string\n",
        "assert type(cat_col) == str\n",
        "\n",
        "# cat_col should be one of the categorical columns\n",
        "assert cat_col in diamonds.select_dtypes(\"object\").columns"
      ]
    },
    {
      "cell_type": "markdown",
      "metadata": {
        "id": "um3z_oW6XZse"
      },
      "source": [
        "### Setting Up Variables for Regression\n",
        "\n",
        "The code below creates a variable `X_iterated`: a DataFrame containing the column with the strongest correlation **and** your selected categorical feature."
      ]
    },
    {
      "cell_type": "code",
      "execution_count": null,
      "metadata": {
        "id": "4n9u-96PXZse"
      },
      "outputs": [],
      "source": [
        "# Run this cell without changes\n",
        "X_iterated = diamonds[[most_correlated, cat_col]]\n",
        "X_iterated"
      ]
    },
    {
      "cell_type": "markdown",
      "metadata": {
        "id": "8Z6WFHyZXZse"
      },
      "source": [
        "### Preprocessing Categorical Variable\n",
        "\n",
        "If we tried to pass `X_iterated` as-is into `sm.OLS`, we would get an error. We need to use `pd.get_dummies` to create dummy variables for `cat_col`.\n",
        "\n",
        "**DO NOT** use `drop_first=True`, so that you can intentionally set a meaningful reference category instead."
      ]
    },
    {
      "cell_type": "code",
      "execution_count": null,
      "metadata": {
        "id": "0ZqnLpHoXZse"
      },
      "outputs": [],
      "source": [
        "# Replace None with appropriate code\n",
        "\n",
        "# Use pd.get_dummies to one-hot encode the categorical column in X_iterated\n",
        "X_iterated = None\n",
        "X_iterated"
      ]
    },
    {
      "cell_type": "markdown",
      "metadata": {
        "id": "HJFH-tmaXZse"
      },
      "source": [
        "The following code checks that you have the right number of columns:"
      ]
    },
    {
      "cell_type": "code",
      "execution_count": null,
      "metadata": {
        "id": "CilMjJ3aXZse"
      },
      "outputs": [],
      "source": [
        "# Run this cell without changes\n",
        "\n",
        "# X_iterated should be a dataframe\n",
        "assert type(X_iterated) == pd.DataFrame\n",
        "\n",
        "# You should have the number of unique values in one of the\n",
        "# categorical columns + 1 (representing the numeric predictor)\n",
        "valid_col_nums = diamonds.select_dtypes(\"object\").nunique() + 1\n",
        "\n",
        "# Check that there are the correct number of columns\n",
        "# (if this crashes, make sure you did not use `drop_first=True`)\n",
        "assert X_iterated.shape[1] in valid_col_nums.values"
      ]
    },
    {
      "cell_type": "markdown",
      "metadata": {
        "id": "ZHfeOxIjXZse"
      },
      "source": [
        "Now, applying your domain understanding, **choose a column to drop and drop it**. This category should make sense as a \"baseline\" or \"reference\"."
      ]
    },
    {
      "cell_type": "code",
      "execution_count": null,
      "metadata": {
        "id": "GXJvG3oiXZse"
      },
      "outputs": [],
      "source": [
        "# Your code here\n"
      ]
    },
    {
      "cell_type": "markdown",
      "metadata": {
        "id": "pS0QKnR-XZse"
      },
      "source": [
        "Now you should have 1 fewer column than before:"
      ]
    },
    {
      "cell_type": "code",
      "execution_count": null,
      "metadata": {
        "id": "43abt8KWXZse"
      },
      "outputs": [],
      "source": [
        "# Run this cell without changes\n",
        "\n",
        "# Check that there are the correct number of columns\n",
        "assert X_iterated.shape[1] in (valid_col_nums - 1).values"
      ]
    },
    {
      "cell_type": "markdown",
      "metadata": {
        "id": "dAyjVWj3XZse"
      },
      "source": [
        "## 5. Build a Multiple Linear Regression Model\n",
        "\n",
        "Using the `y` variable from our previous model and `X_iterated`, build a model called `iterated_model` and a regression results object called `iterated_results`."
      ]
    },
    {
      "cell_type": "code",
      "execution_count": null,
      "metadata": {
        "id": "nIMSiKTEXZse"
      },
      "outputs": [],
      "source": [
        "# Your code here\n"
      ]
    },
    {
      "cell_type": "markdown",
      "metadata": {
        "id": "_PpAgLH5XZse"
      },
      "source": [
        "## 6. Evaluate and Interpret Multiple Linear Regression Model Results\n",
        "\n",
        "If the model was set up correctly, the following code will print the results summary."
      ]
    },
    {
      "cell_type": "code",
      "execution_count": null,
      "metadata": {
        "id": "8NUgOjbTXZse"
      },
      "outputs": [],
      "source": [
        "# Run this cell without changes\n",
        "print(iterated_results.summary())"
      ]
    },
    {
      "cell_type": "markdown",
      "metadata": {
        "id": "ZTmKwhvBXZse"
      },
      "source": [
        "Summarize your findings below. How did the iterated model perform overall? How does this compare to the baseline model? What do the coefficients mean?\n",
        "\n",
        "Create as many additional cells as needed."
      ]
    },
    {
      "cell_type": "code",
      "execution_count": null,
      "metadata": {
        "id": "Df7BxgEFXZse"
      },
      "outputs": [],
      "source": [
        "# Your written answer here"
      ]
    },
    {
      "cell_type": "markdown",
      "metadata": {
        "id": "EFtrPuWiXZse"
      },
      "source": [
        "## Summary\n",
        "\n",
        "Congratulations, you completed an iterative linear regression process! You practiced developing a baseline and an iterated model, as well as identifying promising predictors from both numeric and categorical features."
      ]
    }
  ],
  "metadata": {
    "kernelspec": {
      "display_name": "Python (learn-env)",
      "language": "python",
      "name": "learn-env"
    },
    "language_info": {
      "codemirror_mode": {
        "name": "ipython",
        "version": 3
      },
      "file_extension": ".py",
      "mimetype": "text/x-python",
      "name": "python",
      "nbconvert_exporter": "python",
      "pygments_lexer": "ipython3",
      "version": "3.8.5"
    },
    "colab": {
      "provenance": []
    }
  },
  "nbformat": 4,
  "nbformat_minor": 0
}